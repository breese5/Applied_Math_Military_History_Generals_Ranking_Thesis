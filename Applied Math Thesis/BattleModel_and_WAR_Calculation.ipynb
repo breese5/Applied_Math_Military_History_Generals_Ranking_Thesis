{
 "cells": [
  {
   "cell_type": "code",
   "execution_count": 9,
   "metadata": {},
   "outputs": [
    {
     "name": "stdout",
     "output_type": "stream",
     "text": [
      "Mean Squared Error: 0.9097729708650691\n",
      "Model coefficients: {'Infantry_difference': 3.164860307656626e-07, 'Cavalry_difference': 1.0147512443904323e-05, 'Artillery_difference': -3.644926359295697e-05, 'Ships_difference': 0.00014383250089455512, 'Airforce_difference': -0.00014478512223787228, 'Special_difference': 2.3016291091711602e-05}\n"
     ]
    }
   ],
   "source": [
    "\n",
    "#This block is creating the Linear Regression Model for Average General Performance\n",
    "import pandas as pd\n",
    "from sklearn.model_selection import train_test_split\n",
    "from sklearn.linear_model import LinearRegression\n",
    "from sklearn.metrics import mean_squared_error\n",
    "import numpy as np\n",
    "\n",
    "data = pd.read_csv('/Users/bryantreese/desktop/current_run.csv')\n",
    "\n",
    "\n",
    "troop_types = ['Infantry', 'Cavalry', 'Artillery', 'Ships', 'Airforce', 'Special']\n",
    "\n",
    "# Assuming missing troop counts mean zero troops\n",
    "for troop in troop_types:\n",
    "    \n",
    "    data[troop] = data[troop].replace([np.inf, -np.inf], np.nan).fillna(0)\n",
    "\n",
    "\n",
    "for troop in troop_types:\n",
    "    data[f'{troop}_difference'] = 0\n",
    "\n",
    "# Calculate the differences for each troop type based on position\n",
    "for index, row in data.iterrows():\n",
    "    if row['pos'] == 'L':\n",
    "        for troop in troop_types:\n",
    "            data.loc[index, f'{troop}_difference'] += row[troop]\n",
    "    elif row['pos'] == 'R':\n",
    "        for troop in troop_types:\n",
    "            data.loc[index, f'{troop}_difference'] -= row[troop]\n",
    "\n",
    "# Handling NaN values in 'VorD' as I and convert to numerical\n",
    "data['VorD'] = data['VorD'].map({'V': 1, 'D': -1, 'I': 0}).fillna(0)\n",
    "\n",
    "\n",
    "features = [f'{troop}_difference' for troop in troop_types]\n",
    "X = data[features]\n",
    "y = data['VorD']\n",
    "\n",
    "\n",
    "X_train, X_test, y_train, y_test = train_test_split(X, y, test_size=0.2, random_state=42)\n",
    "\n",
    "\n",
    "model = LinearRegression()\n",
    "model.fit(X_train, y_train)\n",
    "\n",
    "# Predictions and error calculation\n",
    "predictions = model.predict(X_test)\n",
    "mse = mean_squared_error(y_test, predictions)\n",
    "print(f'Mean Squared Error: {mse}')\n",
    "\n",
    "\n",
    "coefficients = {feature: coef for feature, coef in zip(features, model.coef_)}\n",
    "print('Model coefficients:', coefficients)\n"
   ]
  },
  {
   "cell_type": "code",
   "execution_count": 14,
   "metadata": {},
   "outputs": [],
   "source": [
    "#This Code Block takes the linear regression model and calculates eaceh generals WAR, aWAR and number of battles\n",
    "\n",
    "\n",
    "data['predicted_VorD'] = model.predict(X)\n",
    "\n",
    "\n",
    "data['performance_difference'] = -(data['predicted_VorD'] - data['VorD'])\n",
    "\n",
    "\n",
    "belligerent_performance = data.groupby('belligerent').agg(\n",
    "    number_of_Battles=('belligerent', 'size'),\n",
    "    WAR=('performance_difference', 'sum'),\n",
    "    aWAR=('performance_difference', 'mean')\n",
    ").reset_index()\n",
    "\n",
    "# Rename 'belligerent' column to 'General'\n",
    "belligerent_performance.rename(columns={'belligerent': 'General'}, inplace=True)\n",
    "\n",
    "\n",
    "belligerent_performance.to_csv('/Users/bryantreese/desktop/Generals_Performance.csv', index=False)\n"
   ]
  },
  {
   "cell_type": "code",
   "execution_count": 15,
   "metadata": {},
   "outputs": [
    {
     "name": "stdout",
     "output_type": "stream",
     "text": [
      "Mean Squared Error: 0.9132898237756123\n"
     ]
    }
   ],
   "source": [
    "#MSE of the Overall model\n",
    "\n",
    "mse = mean_squared_error(y, data['predicted_VorD'])\n",
    "print(f'Mean Squared Error: {mse}')"
   ]
  },
  {
   "cell_type": "code",
   "execution_count": null,
   "metadata": {},
   "outputs": [],
   "source": [
    "\n"
   ]
  },
  {
   "cell_type": "code",
   "execution_count": 20,
   "metadata": {},
   "outputs": [
    {
     "name": "stdout",
     "output_type": "stream",
     "text": [
      "                                       General  number_of_battles        WAR  \\\n",
      "0                                     Napoleon                 43  30.165273   \n",
      "1     Arthur Wellesley, 1st Duke of Wellington                 18  14.223505   \n",
      "2                                Julius Caesar                 17  12.732013   \n",
      "3                               Takeda Shingen                 18  12.090567   \n",
      "4                          Khalid ibn al-Walid                 14  10.580268   \n",
      "5                             Ulysses S. Grant                 16   9.857647   \n",
      "6                                     Hannibal                 17   9.657072   \n",
      "7                                 Oda Nobunaga                 11   8.435425   \n",
      "8                          Alexander the Great                  9   8.254001   \n",
      "9                          Frederick the Great                 14   8.189264   \n",
      "10                          Capital punishment                 16 -10.994661   \n",
      "11                            Max von Gallwitz                 10  -9.056267   \n",
      "12                              John Bell Hood                 10  -8.402005   \n",
      "13                          Jean-de-Dieu Soult                 11  -7.480740   \n",
      "14        Prince Charles Alexander of Lorraine                  7  -7.289041   \n",
      "15                           John S. Marmaduke                 13  -6.611671   \n",
      "16                             Fritz von Below                  9  -6.435898   \n",
      "17                               Braxton Bragg                  8  -6.307477   \n",
      "18                               Robert E. Lee                 27  -6.011856   \n",
      "19                 Franz Conrad von Hötzendorf                  6  -5.625435   \n",
      "20                                    Lin Biao                  4   4.367712   \n",
      "21                                 Liu Bocheng                  3   3.101559   \n",
      "22                           Stefan Czarniecki                  3   3.046491   \n",
      "23                          Seleucus I Nicator                  4   3.995640   \n",
      "24                               Hannibal Mago                  3   2.941586   \n",
      "25                              Masaharu Homma                  3   2.938624   \n",
      "26                             Maurice de Saxe                  3   2.929812   \n",
      "27                           Fernando d'Avalos                  3   2.918746   \n",
      "28                        Georg von Frundsberg                  3   2.918746   \n",
      "29                             Robert Guiscard                  3   2.881497   \n",
      "30                                Adolf Hitler                  3  -3.732907   \n",
      "31                                 Wei Lihuang                  3  -3.591546   \n",
      "32                            Joseph Bonaparte                  3  -3.264419   \n",
      "33  Karl August, Prince of Waldeck and Pyrmont                  3  -3.204442   \n",
      "34                                Andrea Doria                  4  -4.257167   \n",
      "35            Jonathan M. Wainwright (general)                  3  -3.178613   \n",
      "36                           Jacques MacDonald                  3  -3.174050   \n",
      "37                       Conrad III of Germany                  3  -3.167454   \n",
      "38            William Alexander, Lord Stirling                  3  -3.156567   \n",
      "39                                   Lal Singh                  3  -3.156514   \n",
      "\n",
      "        aWAR  \n",
      "0   0.701518  \n",
      "1   0.790195  \n",
      "2   0.748942  \n",
      "3   0.671698  \n",
      "4   0.755733  \n",
      "5   0.616103  \n",
      "6   0.568063  \n",
      "7   0.766857  \n",
      "8   0.917111  \n",
      "9   0.584947  \n",
      "10 -0.687166  \n",
      "11 -0.905627  \n",
      "12 -0.840200  \n",
      "13 -0.680067  \n",
      "14 -1.041292  \n",
      "15 -0.508590  \n",
      "16 -0.715100  \n",
      "17 -0.788435  \n",
      "18 -0.222661  \n",
      "19 -0.937572  \n",
      "20  1.091928  \n",
      "21  1.033853  \n",
      "22  1.015497  \n",
      "23  0.998910  \n",
      "24  0.980529  \n",
      "25  0.979541  \n",
      "26  0.976604  \n",
      "27  0.972915  \n",
      "28  0.972915  \n",
      "29  0.960499  \n",
      "30 -1.244302  \n",
      "31 -1.197182  \n",
      "32 -1.088140  \n",
      "33 -1.068147  \n",
      "34 -1.064292  \n",
      "35 -1.059538  \n",
      "36 -1.058017  \n",
      "37 -1.055818  \n",
      "38 -1.052189  \n",
      "39 -1.052171  \n"
     ]
    }
   ],
   "source": [
    "#Some Outlier Analysis\n",
    "\n",
    "\n",
    "belligerent_performance_outlier = belligerent_performance[belligerent_performance['number_of_battles'] >= 3]\n",
    "\n",
    "top_10_war = belligerent_performance_outlier.nlargest(10, 'WAR')\n",
    "worst_10_war = belligerent_performance_outlier.nsmallest(10, 'WAR')\n",
    "\n",
    "\n",
    "top_10_awar = belligerent_performance_outlier.nlargest(10, 'aWAR')\n",
    "worst_10_awar = belligerent_performance_outlier.nsmallest(10, 'aWAR')\n",
    "\n",
    "\n",
    "outliers = pd.concat([top_10_war, worst_10_war, top_10_awar, worst_10_awar]).drop_duplicates().reset_index(drop=True)\n",
    "\n",
    "\n",
    "outliers.to_csv('/Users/bryantreese/desktop/Outlier_Performers.csv', index=False)\n",
    "\n",
    "\n",
    "print(outliers)"
   ]
  },
  {
   "cell_type": "code",
   "execution_count": 24,
   "metadata": {},
   "outputs": [
    {
     "name": "stdout",
     "output_type": "stream",
     "text": [
      "Correlation between Number of Battles and WAR: 0.2657519806077616\n",
      "Correlation between Number of Battles and aWAR: 0.059878398289835655\n"
     ]
    }
   ],
   "source": [
    "performance_data = pd.read_csv('/Users/bryantreese/desktop/Generals_Performance.csv')\n",
    "# Calculate the correlation between Battles and WAR + Battles and aWAR\n",
    "WB_correlation = performance_data['number_of_battles'].corr(performance_data['WAR'])\n",
    "aWB_correlation = performance_data['number_of_battles'].corr(performance_data['aWAR'])\n",
    "# Print the correlation\n",
    "print(\"Correlation between Number of Battles and WAR:\", WB_correlation)\n",
    "print(\"Correlation between Number of Battles and aWAR:\", aWB_correlation)"
   ]
  },
  {
   "cell_type": "code",
   "execution_count": null,
   "metadata": {},
   "outputs": [],
   "source": []
  }
 ],
 "metadata": {
  "kernelspec": {
   "display_name": "base",
   "language": "python",
   "name": "python3"
  },
  "language_info": {
   "codemirror_mode": {
    "name": "ipython",
    "version": 3
   },
   "file_extension": ".py",
   "mimetype": "text/x-python",
   "name": "python",
   "nbconvert_exporter": "python",
   "pygments_lexer": "ipython3",
   "version": "3.9.13"
  }
 },
 "nbformat": 4,
 "nbformat_minor": 2
}
